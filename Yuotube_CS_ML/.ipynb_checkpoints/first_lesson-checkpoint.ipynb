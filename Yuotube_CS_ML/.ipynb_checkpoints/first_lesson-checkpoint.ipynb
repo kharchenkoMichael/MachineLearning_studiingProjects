{
 "cells": [
  {
   "cell_type": "code",
   "execution_count": 1,
   "metadata": {
    "collapsed": true
   },
   "outputs": [],
   "source": [
    "import numpy as np\n",
    "import random\n",
    "import matplotlib.pyplot as plt\n",
    "%matplotlib inline"
   ]
  },
  {
   "cell_type": "markdown",
   "metadata": {},
   "source": [
    "# Метод ближайшего соседа (NN)"
   ]
  },
  {
   "cell_type": "code",
   "execution_count": 2,
   "metadata": {
    "collapsed": true
   },
   "outputs": [],
   "source": [
    "def NN(x, data, y, distance):\n",
    "    distances = np.fromiter(map(lambda i: distance(x-i), data), float)\n",
    "    return y[distances.argmin()]"
   ]
  },
  {
   "cell_type": "code",
   "execution_count": 3,
   "metadata": {
    "collapsed": true
   },
   "outputs": [],
   "source": [
    "def evclid_distance(x):\n",
    "    r = 0\n",
    "    for i in range(len(x)):\n",
    "        r+=x[i]**2\n",
    "    return r**0.5"
   ]
  },
  {
   "cell_type": "code",
   "execution_count": 4,
   "metadata": {
    "collapsed": true
   },
   "outputs": [],
   "source": [
    "def generate_data(all_count, classes, dimentions):\n",
    "    res = []\n",
    "    y = []\n",
    "    c_in_class = all_count//classes\n",
    "    for k in range(classes):\n",
    "        d = [0]*dimentions\n",
    "        for i in range(dimentions):\n",
    "            d[i] = random.random()\n",
    "        for i in range(c_in_class):\n",
    "            r = [0]*dimentions\n",
    "            for j in range(dimentions):\n",
    "                r[j] = d[j]+random.random()/5*2-0.2\n",
    "                if r[j] < 0:\n",
    "                    r[j] = 0\n",
    "                if r[j] > 1:\n",
    "                    r[j] = 1\n",
    "            res.append(r)\n",
    "            y.append(k)\n",
    "    res = np.array(res)\n",
    "    y = np.array(y)\n",
    "    return res, y"
   ]
  },
  {
   "cell_type": "code",
   "execution_count": 5,
   "metadata": {
    "collapsed": true
   },
   "outputs": [],
   "source": [
    "data, y = generate_data(100, 2, 2)\n",
    "data[-1, ...], data[1, ...] = data[1, ...], data[-1, ...]"
   ]
  },
  {
   "cell_type": "code",
   "execution_count": 7,
   "metadata": {},
   "outputs": [
    {
     "data": {
      "text/plain": [
       "<matplotlib.contour.QuadContourSet at 0x2d2fb2a8dd8>"
      ]
     },
     "execution_count": 7,
     "metadata": {},
     "output_type": "execute_result"
    },
    {
     "data": {
      "image/png": "[encoded data removed]",
      "text/plain": [
       "<matplotlib.figure.Figure at 0x2d2fa9c5f60>"
      ]
     },
     "metadata": {},
     "output_type": "display_data"
    }
   ],
   "source": [
    "for i in range(len(y)):\n",
    "    plt.scatter(data[i, 0], data[i, 1], color = \"red\" if y[i]==1 else \"blue\")\n",
    "\n",
    "h = 0.02\n",
    "xx, yy = np.meshgrid(np.arange(-0.2, 1.2, h), np.arange(-0.2, 1.2, h))\n",
    "Z = np.fromiter(map(lambda i: NN(i, data, y, evclid_distance),  np.c_[xx.ravel(), yy.ravel()]), float).reshape(xx.shape)\n",
    "plt.contourf(xx, yy, Z, cmap=plt.cm.Paired, alpha=0.8)"
   ]
  },
  {
   "cell_type": "code",
   "execution_count": 50,
   "metadata": {},
   "outputs": [
    {
     "data": {
      "text/plain": [
       "2"
      ]
     },
     "execution_count": 50,
     "metadata": {},
     "output_type": "execute_result"
    }
   ],
   "source": [
    "NN(x, data, y, evclid_distance)"
   ]
  },
  {
   "cell_type": "markdown",
   "metadata": {},
   "source": [
    "# Метод k-ближайших соседей k-NN"
   ]
  },
  {
   "cell_type": "code",
   "execution_count": null,
   "metadata": {
    "collapsed": true
   },
   "outputs": [],
   "source": [
    "def NN(x, k, data, y, distance):\n",
    "    distances = np.fromiter(map(lambda i: distance(x-i), data), float)\n",
    "    return y[distances.argmin()]"
   ]
  }
 ],
 "metadata": {
  "kernelspec": {
   "display_name": "Python 3",
   "language": "python",
   "name": "python3"
  },
  "language_info": {
   "codemirror_mode": {
    "name": "ipython",
    "version": 3
   },
   "file_extension": ".py",
   "mimetype": "text/x-python",
   "name": "python",
   "nbconvert_exporter": "python",
   "pygments_lexer": "ipython3",
   "version": "3.6.2"
  }
 },
 "nbformat": 4,
 "nbformat_minor": 2
}
