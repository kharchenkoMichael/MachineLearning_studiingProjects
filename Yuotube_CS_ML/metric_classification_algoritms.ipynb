{
 "cells": [
  {
   "cell_type": "code",
   "execution_count": 229,
   "metadata": {
    "collapsed": true
   },
   "outputs": [],
   "source": [
    "import numpy as np\n",
    "import random\n",
    "import matplotlib.pyplot as plt\n",
    "import math\n",
    "%matplotlib inline"
   ]
  },
  {
   "cell_type": "markdown",
   "metadata": {},
   "source": [
    "# Метод ближайшего соседа (NN)"
   ]
  },
  {
   "cell_type": "code",
   "execution_count": 2,
   "metadata": {
    "collapsed": true
   },
   "outputs": [],
   "source": [
    "def NN(x, data, y, distance):\n",
    "    distances = np.fromiter(map(lambda i: distance(x-i), data), float)\n",
    "    return y[distances.argmin()]"
   ]
  },
  {
   "cell_type": "code",
   "execution_count": 3,
   "metadata": {
    "collapsed": true
   },
   "outputs": [],
   "source": [
    "def evclid_distance(x):\n",
    "    r = 0\n",
    "    for i in range(len(x)):\n",
    "        r+=x[i]**2\n",
    "    return r**0.5"
   ]
  },
  {
   "cell_type": "code",
   "execution_count": 194,
   "metadata": {
    "collapsed": true
   },
   "outputs": [],
   "source": [
    "def generate_data(all_count, classes, classters, dimentions, scatter):\n",
    "    res = []\n",
    "    y = []\n",
    "    c_in_class = all_count//classters\n",
    "    for k in range(classters):\n",
    "        c = random.randint(1,classes)\n",
    "        d = [0]*dimentions\n",
    "        for i in range(dimentions):\n",
    "            d[i] = random.random()\n",
    "        for i in range(c_in_class):\n",
    "            r = [0]*dimentions\n",
    "            for j in range(dimentions):\n",
    "                r[j] = d[j]+random.random()/5*scatter-0.1*scatter\n",
    "                if r[j] < 0:\n",
    "                    r[j] = 0\n",
    "                if r[j] > 1:\n",
    "                    r[j] = 1\n",
    "            res.append(r)\n",
    "            y.append(c)\n",
    "    res = np.array(res)\n",
    "    y = np.array(y)\n",
    "    return res, y"
   ]
  },
  {
   "cell_type": "code",
   "execution_count": 253,
   "metadata": {
    "collapsed": true
   },
   "outputs": [],
   "source": [
    "data, y = generate_data(100, 2, 20, 2, 1)\n"
   ]
  },
  {
   "cell_type": "code",
   "execution_count": 256,
   "metadata": {},
   "outputs": [
    {
     "data": {
      "image/png": "[encoded data removed]",
      "text/plain": [
       "<matplotlib.figure.Figure at 0x2d282b82198>"
      ]
     },
     "metadata": {},
     "output_type": "display_data"
    }
   ],
   "source": [
    "h = 0.02\n",
    "xx, yy = np.meshgrid(np.arange(-0.2, 1.2, h), np.arange(-0.2, 1.2, h))\n",
    "Z = np.fromiter(map(lambda i: parzen_variable(i, 12, data, y, evclid_distance, Rect_kernel),\n",
    "                    np.c_[xx.ravel(), yy.ravel()]), float).reshape(xx.shape)\n",
    "plt.contourf(xx, yy, Z, cmap=plt.cm.Paired, alpha=0.8)\n",
    "\n",
    "for i in range(len(y)):\n",
    "    plt.scatter(data[i, 0], data[i, 1], color = \"blue\" if y[i]==1 else \"red\")"
   ]
  },
  {
   "cell_type": "code",
   "execution_count": 50,
   "metadata": {},
   "outputs": [
    {
     "data": {
      "text/plain": [
       "2"
      ]
     },
     "execution_count": 50,
     "metadata": {},
     "output_type": "execute_result"
    }
   ],
   "source": [
    "NN(x, data, y, evclid_distance)"
   ]
  },
  {
   "cell_type": "markdown",
   "metadata": {},
   "source": [
    "# Метод k-ближайших соседей k-NN"
   ]
  },
  {
   "cell_type": "code",
   "execution_count": 28,
   "metadata": {
    "collapsed": true
   },
   "outputs": [],
   "source": [
    "def k_NN(x, k, data, y, distance):\n",
    "    distances = sorted(enumerate(map(lambda i: distance(x-i), data)),\n",
    "                       key = lambda i: i[1])[:k]\n",
    "    d={}\n",
    "    for index, i in distances:\n",
    "        if y[index] not in d:\n",
    "            d[y[index]] = 0\n",
    "        d[y[index]]+=1\n",
    "    a = max(d.items(), key = lambda i: i[1])\n",
    "    return a[0]"
   ]
  },
  {
   "cell_type": "markdown",
   "metadata": {},
   "source": [
    "## Оптимизация числа соседей\n",
    "Функционал скользящего контроля leav-one-out\n",
    "$$ LOO(k,X^l) = \\sum_{i=1}^l[a(x_i:X^l/{x_i}, k) \\neq y_i] \\rightarrow min_k$$"
   ]
  },
  {
   "cell_type": "code",
   "execution_count": 241,
   "metadata": {
    "collapsed": true
   },
   "outputs": [],
   "source": [
    "def LOO(data, y, distance, func):\n",
    "    n = data.shape[0]\n",
    "    sum_k = {}\n",
    "    for i in range(n):\n",
    "        n_data = np.vstack([data[:i], data[i+1:]])\n",
    "        n_y = np.concatenate([y[:i], y[i+1:]])\n",
    "        for j in range(1, n-2):\n",
    "            res = func(data[i], j, n_data, n_y, distance)\n",
    "            if j not in sum_k:\n",
    "                sum_k[j] = 0\n",
    "            if res != y[i]:\n",
    "                sum_k[j]+=1\n",
    "    prev = None\n",
    "    for i in sum_k.items():\n",
    "        if prev is not None:\n",
    "            plt.plot([prev[0],i[0]], [prev[1], i[1]], color = \"red\")\n",
    "        prev = i\n",
    "    return min(sum_k.items(), key = lambda item:item[1])[0]"
   ]
  },
  {
   "cell_type": "code",
   "execution_count": 255,
   "metadata": {},
   "outputs": [
    {
     "data": {
      "text/plain": [
       "12"
      ]
     },
     "execution_count": 255,
     "metadata": {},
     "output_type": "execute_result"
    },
    {
     "data": {
      "image/png": "[encoded data removed]",
      "text/plain": [
       "<matplotlib.figure.Figure at 0x2d28248d438>"
      ]
     },
     "metadata": {},
     "output_type": "display_data"
    }
   ],
   "source": [
    "LOO(data, y, evclid_distance, lambda a1, a2, a3, a4, a5: \n",
    "    parzen_variable(a1, a2,a3,a4,a5,Rect_kernel))"
   ]
  },
  {
   "cell_type": "markdown",
   "metadata": {},
   "source": [
    "# Метод k-взвешенных ближайших соседей\n",
    "## Возможные эвристики\n",
    "- $w_i=(k+1-i)/k$ - линейно убыва.щие веса;\n",
    "- $w_i = q^i$ - экспоненциально убывающие веса, $0<q<1$;"
   ]
  },
  {
   "cell_type": "code",
   "execution_count": 114,
   "metadata": {
    "collapsed": true
   },
   "outputs": [],
   "source": [
    "def k_NN_w(x, k, data, y, distance, weight):\n",
    "    distances = sorted(enumerate(map(lambda i: distance(x-i), data)), key = lambda i: i[1])[:k]\n",
    "    d={}\n",
    "    for index, i in enumerate(map(lambda x:x[0], distances)):\n",
    "        if y[i] not in d:\n",
    "            d[y[i]] = 0\n",
    "        d[y[i]]+=1*weight(index)\n",
    "    a = max(d.items(), key = lambda i: i[1])\n",
    "    return a[0]"
   ]
  },
  {
   "cell_type": "code",
   "execution_count": 115,
   "metadata": {
    "collapsed": true
   },
   "outputs": [],
   "source": [
    "def eksponent_weight(q, i):\n",
    "    return q**i"
   ]
  },
  {
   "cell_type": "code",
   "execution_count": 126,
   "metadata": {
    "collapsed": true
   },
   "outputs": [],
   "source": [
    "def line_weight(k,i):\n",
    "    return (k+1-i)/k"
   ]
  },
  {
   "cell_type": "markdown",
   "metadata": {},
   "source": [
    "# Метод окна Парзена\n",
    "## Метод парзеновского окна фиксированной ширины:\n",
    "$$ a(u; X^l, h, K)=arg max_{y\\in Y} \\sum_{i=1}^l [y^{(i)}_u = y] K(p(u,x_u^{(i)})/h)$$\n",
    "## Метод парзеновского окна переменной ширины:\n",
    "$$ a(u; X^l, k, K)=arg max_{y\\in Y} \\sum_{i=1}^l [y^{(i)}_u = y] K(p(u,x_u^{(i)})/p(u, x^{(k+1)}_u))$$"
   ]
  },
  {
   "cell_type": "code",
   "execution_count": 257,
   "metadata": {
    "collapsed": true
   },
   "outputs": [],
   "source": [
    "def parzen_variable(x, k, data, y, distance, kernel, weight = None):\n",
    "    if weight is None:\n",
    "        weight = [1]*data.shape[0]\n",
    "    distances = sorted(enumerate(map(lambda i: distance(x-i), data)), key = lambda i: i[1])\n",
    "    d={}\n",
    "    for index, i in enumerate(map(lambda x:x[0], distances)):\n",
    "        if y[i] not in d:\n",
    "            d[y[i]] = 0\n",
    "        d[y[i]]+=weight[i]*kernel(distances[index][1]/distances[k+1][1])\n",
    "    a = max(d.items(), key = lambda i: i[1])\n",
    "    return a[0]"
   ]
  },
  {
   "cell_type": "code",
   "execution_count": 258,
   "metadata": {
    "collapsed": true
   },
   "outputs": [],
   "source": [
    "def parzen_fixed(x, h, data, y, distance, kernel, weight = None):\n",
    "    if weight is None:\n",
    "        weight = [1]*data.shape[0]\n",
    "    distances = sorted(enumerate(map(lambda i: distance(x-i), data)), key = lambda i: i[1])\n",
    "    d={}\n",
    "    for index, i in enumerate(map(lambda x:x[0], distances)):\n",
    "        if y[i] not in d:\n",
    "            d[y[i]] = 0\n",
    "        d[y[i]]+=weight[i]*kernel(distances[index][1]/h)\n",
    "    a = max(d.items(), key = lambda i: i[1])\n",
    "    return a[0]"
   ]
  },
  {
   "cell_type": "markdown",
   "metadata": {},
   "source": [
    "### Ядро Епаничникова\n",
    "$$ E(r)=3/4(1-r^2)[|r|<=1]$$\n",
    "### Квартическое ядро\n",
    "$$ Q(r)=15/16(1-r^2)^2[|r|<=1]$$\n",
    "### Треугольное ядро\n",
    "$$ T(r)=(1-|r|)[|r|<=1]$$\n",
    "### Гаусовское ядро\n",
    "$$ G(r)=(2\\pi)^{(-1/2)}e^{(-1/2r^2)}$$\n",
    "### Прямоугольное ядро\n",
    "$$ P(r) = 1/2[|r|<=1]$$"
   ]
  },
  {
   "cell_type": "code",
   "execution_count": 230,
   "metadata": {
    "collapsed": true
   },
   "outputs": [],
   "source": [
    "def Epanich_kernel(r):\n",
    "    return (3/4)*(1-r**2)*(1 if math.fabs(r)<= 1 else 0)"
   ]
  },
  {
   "cell_type": "code",
   "execution_count": 231,
   "metadata": {
    "collapsed": true
   },
   "outputs": [],
   "source": [
    "def Squered_kernel(r):\n",
    "    return (15/16)*(1-r**2)**2*(1 if math.fabs(r)<= 1 else 0)"
   ]
  },
  {
   "cell_type": "code",
   "execution_count": 232,
   "metadata": {
    "collapsed": true
   },
   "outputs": [],
   "source": [
    "def Triangle_kernel(r):\n",
    "    return (1-math.fabs(r))*(1 if math.fabs(r)<= 1 else 0)"
   ]
  },
  {
   "cell_type": "code",
   "execution_count": 236,
   "metadata": {
    "collapsed": true
   },
   "outputs": [],
   "source": [
    "def Gaus_kernel(r):\n",
    "    return (2*math.pi)**(-1/2)*math.e**(-(1/2)*r**2)"
   ]
  },
  {
   "cell_type": "code",
   "execution_count": 234,
   "metadata": {
    "collapsed": true
   },
   "outputs": [],
   "source": [
    "def Rect_kernel(r):\n",
    "    return (1/2)*(1 if math.fabs(r)<= 1 else 0)"
   ]
  },
  {
   "cell_type": "markdown",
   "metadata": {},
   "source": [
    "# Метод потенциальных функций\n",
    "$$ a(u; X^l, h, K)=arg max_{y\\in Y} \\sum_{i=1}^l [y^{(i)}_u = y] \\gamma_i K(p(u,x_u^{(i)})/h)$$"
   ]
  },
  {
   "cell_type": "markdown",
   "metadata": {},
   "source": [
    "## Взвешенная метрика Минковского:\n",
    "$$ p(u, x) = (\\sum_{j=1}^nw_j|f_j(u)-f_j(x_i)|^p)^{1/p}$$\n",
    "\n",
    "В частности, если $w_j=1$ и $p=2$, то имеем евклидову метрику"
   ]
  },
  {
   "cell_type": "code",
   "execution_count": 259,
   "metadata": {
    "collapsed": true
   },
   "outputs": [],
   "source": [
    "def minkov_distance(x, w, p):\n",
    "    r = 0\n",
    "    for i in range(len(x)):\n",
    "        r+=w[i]*x[i]**p\n",
    "    return r**(1/p)"
   ]
  },
  {
   "cell_type": "markdown",
   "metadata": {
    "collapsed": true
   },
   "source": [
    "# SKLEARN "
   ]
  },
  {
   "cell_type": "code",
   "execution_count": 48,
   "metadata": {},
   "outputs": [
    {
     "name": "stdout",
     "output_type": "stream",
     "text": [
      "Requirement already up-to-date: scikit-learn in c:\\users\\misha\\anaconda3\\lib\\site-packages (0.20.2)\n",
      "Requirement already satisfied, skipping upgrade: numpy>=1.8.2 in c:\\users\\misha\\anaconda3\\lib\\site-packages (from scikit-learn) (1.15.4)\n",
      "Requirement already satisfied, skipping upgrade: scipy>=0.13.3 in c:\\users\\misha\\anaconda3\\lib\\site-packages (from scikit-learn) (1.1.0)\n"
     ]
    }
   ],
   "source": [
    "!pip install -U scikit-learn --user"
   ]
  },
  {
   "cell_type": "code",
   "execution_count": 52,
   "metadata": {},
   "outputs": [],
   "source": [
    "from  sklearn import preprocessing, svm\n",
    "from sklearn.linear_model import LinearRegression\n",
    "from sklearn import model_selection \n",
    "import pandas as pd\n",
    "import quandl\n",
    "import math\n",
    "import numpy as np"
   ]
  },
  {
   "cell_type": "code",
   "execution_count": 26,
   "metadata": {},
   "outputs": [],
   "source": [
    "df = quandl.get('WIKI/GOOGL')\n",
    "\n",
    "df = df[[\"Adj. Open\", \"Adj. High\", \"Adj. Low\", \"Adj. Close\", \"Adj. Volume\"]]\n",
    "df['HL_PCT'] = (df[\"Adj. High\"]- df[\"Adj. Close\"])/df[\"Adj. Close\"]*100.0\n",
    "df['PCT_change'] = (df[\"Adj. Close\"]- df[\"Adj. Open\"])/df[\"Adj. Open\"]*100.0\n",
    "\n",
    "df = df[['Adj. Close', 'HL_PCT', 'PCT_change', 'Adj. Volume']]\n",
    "\n",
    "forecast_col = 'Adj. Close'\n",
    "df.fillna(-999999, inplace = True)\n",
    "\n",
    "forecast_out = int(math.ceil(0.01*len(df)))\n",
    "\n",
    "df['label'] = df[forecast_col].shift(-forecast_out)\n",
    "df.dropna(inplace=True)"
   ]
  },
  {
   "cell_type": "code",
   "execution_count": 54,
   "metadata": {},
   "outputs": [],
   "source": [
    "X = np.array(df.drop(['label'], 1))\n",
    "y = np.array(df['label'])\n",
    "X = preprocessing.scale(X)\n",
    "y = np.array(df['label'])\n",
    "\n",
    "X_train, X_test, y_train, y_test = model_selection .train_test_split(X, y, test_size = 0.2)"
   ]
  },
  {
   "cell_type": "code",
   "execution_count": null,
   "metadata": {},
   "outputs": [],
   "source": []
  }
 ],
 "metadata": {
  "kernelspec": {
   "display_name": "Python 3",
   "language": "python",
   "name": "python3"
  },
  "language_info": {
   "codemirror_mode": {
    "name": "ipython",
    "version": 3
   },
   "file_extension": ".py",
   "mimetype": "text/x-python",
   "name": "python",
   "nbconvert_exporter": "python",
   "pygments_lexer": "ipython3",
   "version": "3.7.1"
  }
 },
 "nbformat": 4,
 "nbformat_minor": 2
}
